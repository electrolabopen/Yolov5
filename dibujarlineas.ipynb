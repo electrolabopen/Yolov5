{
  "nbformat": 4,
  "nbformat_minor": 0,
  "metadata": {
    "colab": {
      "name": "dibujarlineas.ipynb",
      "provenance": [],
      "authorship_tag": "ABX9TyNvOvl6mOl7eCGJf3NLEKBf",
      "include_colab_link": true
    },
    "kernelspec": {
      "name": "python3",
      "display_name": "Python 3"
    },
    "language_info": {
      "name": "python"
    }
  },
  "cells": [
    {
      "cell_type": "markdown",
      "metadata": {
        "id": "view-in-github",
        "colab_type": "text"
      },
      "source": [
        "<a href=\"https://colab.research.google.com/github/electrolabopen/Yolov5/blob/main/dibujarlineas.ipynb\" target=\"_parent\"><img src=\"https://colab.research.google.com/assets/colab-badge.svg\" alt=\"Open In Colab\"/></a>"
      ]
    },
    {
      "cell_type": "code",
      "metadata": {
        "id": "UQyKuCj51dHp"
      },
      "source": [
        "import cv2\n",
        "import numpy as np\n",
        "import matplotlib.pyplot as plt\n"
      ],
      "execution_count": 16,
      "outputs": []
    },
    {
      "cell_type": "code",
      "metadata": {
        "id": "6c4RBO9_1g4H"
      },
      "source": [
        "mask_image_temp = np.zeros((400, 220), dtype=np.uint8)"
      ],
      "execution_count": 59,
      "outputs": []
    },
    {
      "cell_type": "code",
      "metadata": {
        "id": "hf44XymG1mAa"
      },
      "source": [
        "#list_pts_blue = [[1000, 1000], [1000, 600], [1000, 400], [1000, 300], [1000, 200], [1000, 100], [1000, 50], [1000, 25],\n",
        "                     #[1000, 20], [1000, 10]]\n",
        "\n",
        "#prueba\n",
        "\n",
        "list_pts_blue = [[204, 305], [227, 431], [605, 522], [1101, 464], [1900, 601], [1902, 495], [1125, 379], [604, 437],\n",
        "                     [299, 375], [267, 289]]"
      ],
      "execution_count": 60,
      "outputs": []
    },
    {
      "cell_type": "code",
      "metadata": {
        "colab": {
          "base_uri": "https://localhost:8080/"
        },
        "id": "IZIPzrsO1pxV",
        "outputId": "c72b279e-2311-4d63-ffdc-25a20f092394"
      },
      "source": [
        "list_pts_blue"
      ],
      "execution_count": 61,
      "outputs": [
        {
          "output_type": "execute_result",
          "data": {
            "text/plain": [
              "[[204, 305],\n",
              " [227, 431],\n",
              " [605, 522],\n",
              " [1101, 464],\n",
              " [1900, 601],\n",
              " [1902, 495],\n",
              " [1125, 379],\n",
              " [604, 437],\n",
              " [299, 375],\n",
              " [267, 289]]"
            ]
          },
          "metadata": {
            "tags": []
          },
          "execution_count": 61
        }
      ]
    },
    {
      "cell_type": "code",
      "metadata": {
        "id": "ksD-9MhG1vlc"
      },
      "source": [
        "ndarray_pts_blue = np.array(list_pts_blue, np.int32)\n",
        "polygon_blue_value_1 = cv2.fillPoly(mask_image_temp, [ndarray_pts_blue], color=1)\n",
        "polygon_blue_value_1 = polygon_blue_value_1[:, :, np.newaxis]"
      ],
      "execution_count": 62,
      "outputs": []
    },
    {
      "cell_type": "code",
      "metadata": {
        "colab": {
          "base_uri": "https://localhost:8080/",
          "height": 269
        },
        "id": "EfW0X-jf1-RT",
        "outputId": "f561c736-9fba-4ec1-f50f-31d5ad046f2e"
      },
      "source": [
        "plt.imshow(mask_image_temp)\n",
        "plt.show()"
      ],
      "execution_count": 63,
      "outputs": [
        {
          "output_type": "display_data",
          "data": {
            "image/png": "[encoded data removed]",
            "text/plain": [
              "<Figure size 432x288 with 1 Axes>"
            ]
          },
          "metadata": {
            "tags": [],
            "needs_background": "light"
          }
        }
      ]
    },
    {
      "cell_type": "code",
      "metadata": {
        "id": "gbVrTLaL3QaO"
      },
      "source": [
        "mask_image_temp = np.zeros((1080, 1920), dtype=np.uint8)\n",
        "#list_pts_yellow = [[1250, 1000], [1250, 800], [1250, 600], [1250, 500], [1250, 400], [1250, 300], [1250, 200],\n",
        "                       #[1250, 100], [1250, 50], [1250, 0]]\n",
        "\n",
        "\n",
        "#Prueba\n",
        "\n",
        "\n",
        "list_pts_yellow = [[181, 305], [207, 442], [603, 544], [1107, 485], [1898, 625], [1893, 701], [1101, 568],\n",
        "                       [594, 637], [118, 483], [109, 303]]"
      ],
      "execution_count": 64,
      "outputs": []
    },
    {
      "cell_type": "code",
      "metadata": {
        "colab": {
          "base_uri": "https://localhost:8080/"
        },
        "id": "TFyi2ifI3bSP",
        "outputId": "7d8bf46b-4470-496d-b0b6-5c496a11c409"
      },
      "source": [
        "list_pts_yellow"
      ],
      "execution_count": 65,
      "outputs": [
        {
          "output_type": "execute_result",
          "data": {
            "text/plain": [
              "[[181, 305],\n",
              " [207, 442],\n",
              " [603, 544],\n",
              " [1107, 485],\n",
              " [1898, 625],\n",
              " [1893, 701],\n",
              " [1101, 568],\n",
              " [594, 637],\n",
              " [118, 483],\n",
              " [109, 303]]"
            ]
          },
          "metadata": {
            "tags": []
          },
          "execution_count": 65
        }
      ]
    },
    {
      "cell_type": "code",
      "metadata": {
        "id": "j0bDQLyh3jr4"
      },
      "source": [
        "ndarray_pts_yellow = np.array(list_pts_yellow, np.int32)\n",
        "polygon_yellow_value_2 = cv2.fillPoly(mask_image_temp, [ndarray_pts_yellow], color=2)\n",
        "polygon_yellow_value_2 = polygon_yellow_value_2[:, :, np.newaxis]"
      ],
      "execution_count": 66,
      "outputs": []
    },
    {
      "cell_type": "code",
      "metadata": {
        "id": "57nrsIJ33yFz"
      },
      "source": [
        "plt.imshow(list_pts_yellow)\n",
        "plt.show()"
      ],
      "execution_count": null,
      "outputs": []
    },
    {
      "cell_type": "code",
      "metadata": {
        "id": "_qvnBgvv4dUi"
      },
      "source": [
        "polygon_mask_blue_and_yellow = polygon_blue_value_1 + polygon_yellow_value_2"
      ],
      "execution_count": null,
      "outputs": []
    },
    {
      "cell_type": "code",
      "metadata": {
        "id": "ekWPy-B94j0J"
      },
      "source": [
        "polygon_mask_blue_and_yellow = cv2.resize(polygon_mask_blue_and_yellow, (960, 540))"
      ],
      "execution_count": 69,
      "outputs": []
    },
    {
      "cell_type": "code",
      "metadata": {
        "colab": {
          "base_uri": "https://localhost:8080/",
          "height": 257
        },
        "id": "RA7XK0pU4mKN",
        "outputId": "4666fa90-94f8-4fcd-fc5c-9089e73112a0"
      },
      "source": [
        "plt.imshow(polygon_mask_blue_and_yellow)\n",
        "plt.show"
      ],
      "execution_count": 70,
      "outputs": [
        {
          "output_type": "execute_result",
          "data": {
            "text/plain": [
              "<function matplotlib.pyplot.show>"
            ]
          },
          "metadata": {
            "tags": []
          },
          "execution_count": 70
        },
        {
          "output_type": "display_data",
          "data": {
            "image/png": "[encoded data removed]",
            "text/plain": [
              "<Figure size 432x288 with 1 Axes>"
            ]
          },
          "metadata": {
            "tags": [],
            "needs_background": "light"
          }
        }
      ]
    }
  ]
}